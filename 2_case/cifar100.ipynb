{
  "cells": [
    {
      "cell_type": "markdown",
      "metadata": {
        "id": "a9459173"
      },
      "source": [
        "**Классификация изображений с помощью сверточных нейронных сетей**\n",
        "\n",
        "В данном задании Вам необходимо разработать архитектуру сверточной ИНС, обеспечивающую наибольшую точность при ограничении на количество операций (FLOPs <= 0.707e6).\n",
        "Заготовка кода для выполнения задания приведена выше. Вашей задачей будет заполнить пропущеные места, которые отмечены ключевым словом *None*.\n",
        "Необходимая точность (accuracy) сети на датасете CIFAR100 - 30%\n",
        "Желаемая точность (accuracy) сети на датасете CIFAR100 - 45%"
      ],
      "id": "a9459173"
    },
    {
      "cell_type": "code",
      "execution_count": 2,
      "metadata": {
        "colab": {
          "base_uri": "https://localhost:8080/"
        },
        "id": "4dcd79cc",
        "outputId": "79fecb40-b46e-478b-b1a2-dbb5b7f6ebd4"
      },
      "outputs": [
        {
          "output_type": "stream",
          "name": "stdout",
          "text": [
            "Looking in indexes: https://pypi.org/simple, https://us-python.pkg.dev/colab-wheels/public/simple/\n",
            "Collecting keras-flops\n",
            "  Downloading keras_flops-0.1.2-py3-none-any.whl (5.3 kB)\n",
            "Requirement already satisfied: tensorflow<3.0,>=2.2 in /usr/local/lib/python3.8/dist-packages (from keras-flops) (2.9.2)\n",
            "Requirement already satisfied: keras<2.10.0,>=2.9.0rc0 in /usr/local/lib/python3.8/dist-packages (from tensorflow<3.0,>=2.2->keras-flops) (2.9.0)\n",
            "Requirement already satisfied: six>=1.12.0 in /usr/local/lib/python3.8/dist-packages (from tensorflow<3.0,>=2.2->keras-flops) (1.15.0)\n",
            "Requirement already satisfied: keras-preprocessing>=1.1.1 in /usr/local/lib/python3.8/dist-packages (from tensorflow<3.0,>=2.2->keras-flops) (1.1.2)\n",
            "Requirement already satisfied: gast<=0.4.0,>=0.2.1 in /usr/local/lib/python3.8/dist-packages (from tensorflow<3.0,>=2.2->keras-flops) (0.4.0)\n",
            "Requirement already satisfied: numpy>=1.20 in /usr/local/lib/python3.8/dist-packages (from tensorflow<3.0,>=2.2->keras-flops) (1.21.6)\n",
            "Requirement already satisfied: flatbuffers<2,>=1.12 in /usr/local/lib/python3.8/dist-packages (from tensorflow<3.0,>=2.2->keras-flops) (1.12)\n",
            "Requirement already satisfied: h5py>=2.9.0 in /usr/local/lib/python3.8/dist-packages (from tensorflow<3.0,>=2.2->keras-flops) (3.1.0)\n",
            "Requirement already satisfied: wrapt>=1.11.0 in /usr/local/lib/python3.8/dist-packages (from tensorflow<3.0,>=2.2->keras-flops) (1.14.1)\n",
            "Requirement already satisfied: typing-extensions>=3.6.6 in /usr/local/lib/python3.8/dist-packages (from tensorflow<3.0,>=2.2->keras-flops) (4.4.0)\n",
            "Requirement already satisfied: absl-py>=1.0.0 in /usr/local/lib/python3.8/dist-packages (from tensorflow<3.0,>=2.2->keras-flops) (1.3.0)\n",
            "Requirement already satisfied: opt-einsum>=2.3.2 in /usr/local/lib/python3.8/dist-packages (from tensorflow<3.0,>=2.2->keras-flops) (3.3.0)\n",
            "Requirement already satisfied: grpcio<2.0,>=1.24.3 in /usr/local/lib/python3.8/dist-packages (from tensorflow<3.0,>=2.2->keras-flops) (1.51.1)\n",
            "Requirement already satisfied: tensorflow-estimator<2.10.0,>=2.9.0rc0 in /usr/local/lib/python3.8/dist-packages (from tensorflow<3.0,>=2.2->keras-flops) (2.9.0)\n",
            "Requirement already satisfied: tensorflow-io-gcs-filesystem>=0.23.1 in /usr/local/lib/python3.8/dist-packages (from tensorflow<3.0,>=2.2->keras-flops) (0.29.0)\n",
            "Requirement already satisfied: tensorboard<2.10,>=2.9 in /usr/local/lib/python3.8/dist-packages (from tensorflow<3.0,>=2.2->keras-flops) (2.9.1)\n",
            "Requirement already satisfied: google-pasta>=0.1.1 in /usr/local/lib/python3.8/dist-packages (from tensorflow<3.0,>=2.2->keras-flops) (0.2.0)\n",
            "Requirement already satisfied: libclang>=13.0.0 in /usr/local/lib/python3.8/dist-packages (from tensorflow<3.0,>=2.2->keras-flops) (15.0.6.1)\n",
            "Requirement already satisfied: packaging in /usr/local/lib/python3.8/dist-packages (from tensorflow<3.0,>=2.2->keras-flops) (21.3)\n",
            "Requirement already satisfied: protobuf<3.20,>=3.9.2 in /usr/local/lib/python3.8/dist-packages (from tensorflow<3.0,>=2.2->keras-flops) (3.19.6)\n",
            "Requirement already satisfied: setuptools in /usr/local/lib/python3.8/dist-packages (from tensorflow<3.0,>=2.2->keras-flops) (57.4.0)\n",
            "Requirement already satisfied: termcolor>=1.1.0 in /usr/local/lib/python3.8/dist-packages (from tensorflow<3.0,>=2.2->keras-flops) (2.2.0)\n",
            "Requirement already satisfied: astunparse>=1.6.0 in /usr/local/lib/python3.8/dist-packages (from tensorflow<3.0,>=2.2->keras-flops) (1.6.3)\n",
            "Requirement already satisfied: wheel<1.0,>=0.23.0 in /usr/local/lib/python3.8/dist-packages (from astunparse>=1.6.0->tensorflow<3.0,>=2.2->keras-flops) (0.38.4)\n",
            "Requirement already satisfied: tensorboard-plugin-wit>=1.6.0 in /usr/local/lib/python3.8/dist-packages (from tensorboard<2.10,>=2.9->tensorflow<3.0,>=2.2->keras-flops) (1.8.1)\n",
            "Requirement already satisfied: markdown>=2.6.8 in /usr/local/lib/python3.8/dist-packages (from tensorboard<2.10,>=2.9->tensorflow<3.0,>=2.2->keras-flops) (3.4.1)\n",
            "Requirement already satisfied: werkzeug>=1.0.1 in /usr/local/lib/python3.8/dist-packages (from tensorboard<2.10,>=2.9->tensorflow<3.0,>=2.2->keras-flops) (1.0.1)\n",
            "Requirement already satisfied: google-auth<3,>=1.6.3 in /usr/local/lib/python3.8/dist-packages (from tensorboard<2.10,>=2.9->tensorflow<3.0,>=2.2->keras-flops) (2.16.0)\n",
            "Requirement already satisfied: google-auth-oauthlib<0.5,>=0.4.1 in /usr/local/lib/python3.8/dist-packages (from tensorboard<2.10,>=2.9->tensorflow<3.0,>=2.2->keras-flops) (0.4.6)\n",
            "Requirement already satisfied: requests<3,>=2.21.0 in /usr/local/lib/python3.8/dist-packages (from tensorboard<2.10,>=2.9->tensorflow<3.0,>=2.2->keras-flops) (2.25.1)\n",
            "Requirement already satisfied: tensorboard-data-server<0.7.0,>=0.6.0 in /usr/local/lib/python3.8/dist-packages (from tensorboard<2.10,>=2.9->tensorflow<3.0,>=2.2->keras-flops) (0.6.1)\n",
            "Requirement already satisfied: pyparsing!=3.0.5,>=2.0.2 in /usr/local/lib/python3.8/dist-packages (from packaging->tensorflow<3.0,>=2.2->keras-flops) (3.0.9)\n",
            "Requirement already satisfied: pyasn1-modules>=0.2.1 in /usr/local/lib/python3.8/dist-packages (from google-auth<3,>=1.6.3->tensorboard<2.10,>=2.9->tensorflow<3.0,>=2.2->keras-flops) (0.2.8)\n",
            "Requirement already satisfied: cachetools<6.0,>=2.0.0 in /usr/local/lib/python3.8/dist-packages (from google-auth<3,>=1.6.3->tensorboard<2.10,>=2.9->tensorflow<3.0,>=2.2->keras-flops) (5.2.1)\n",
            "Requirement already satisfied: rsa<5,>=3.1.4 in /usr/local/lib/python3.8/dist-packages (from google-auth<3,>=1.6.3->tensorboard<2.10,>=2.9->tensorflow<3.0,>=2.2->keras-flops) (4.9)\n",
            "Requirement already satisfied: requests-oauthlib>=0.7.0 in /usr/local/lib/python3.8/dist-packages (from google-auth-oauthlib<0.5,>=0.4.1->tensorboard<2.10,>=2.9->tensorflow<3.0,>=2.2->keras-flops) (1.3.1)\n",
            "Requirement already satisfied: importlib-metadata>=4.4 in /usr/local/lib/python3.8/dist-packages (from markdown>=2.6.8->tensorboard<2.10,>=2.9->tensorflow<3.0,>=2.2->keras-flops) (6.0.0)\n",
            "Requirement already satisfied: idna<3,>=2.5 in /usr/local/lib/python3.8/dist-packages (from requests<3,>=2.21.0->tensorboard<2.10,>=2.9->tensorflow<3.0,>=2.2->keras-flops) (2.10)\n",
            "Requirement already satisfied: chardet<5,>=3.0.2 in /usr/local/lib/python3.8/dist-packages (from requests<3,>=2.21.0->tensorboard<2.10,>=2.9->tensorflow<3.0,>=2.2->keras-flops) (4.0.0)\n",
            "Requirement already satisfied: certifi>=2017.4.17 in /usr/local/lib/python3.8/dist-packages (from requests<3,>=2.21.0->tensorboard<2.10,>=2.9->tensorflow<3.0,>=2.2->keras-flops) (2022.12.7)\n",
            "Requirement already satisfied: urllib3<1.27,>=1.21.1 in /usr/local/lib/python3.8/dist-packages (from requests<3,>=2.21.0->tensorboard<2.10,>=2.9->tensorflow<3.0,>=2.2->keras-flops) (1.24.3)\n",
            "Requirement already satisfied: zipp>=0.5 in /usr/local/lib/python3.8/dist-packages (from importlib-metadata>=4.4->markdown>=2.6.8->tensorboard<2.10,>=2.9->tensorflow<3.0,>=2.2->keras-flops) (3.11.0)\n",
            "Requirement already satisfied: pyasn1<0.5.0,>=0.4.6 in /usr/local/lib/python3.8/dist-packages (from pyasn1-modules>=0.2.1->google-auth<3,>=1.6.3->tensorboard<2.10,>=2.9->tensorflow<3.0,>=2.2->keras-flops) (0.4.8)\n",
            "Requirement already satisfied: oauthlib>=3.0.0 in /usr/local/lib/python3.8/dist-packages (from requests-oauthlib>=0.7.0->google-auth-oauthlib<0.5,>=0.4.1->tensorboard<2.10,>=2.9->tensorflow<3.0,>=2.2->keras-flops) (3.2.2)\n",
            "Installing collected packages: keras-flops\n",
            "Successfully installed keras-flops-0.1.2\n"
          ]
        }
      ],
      "source": [
        "!pip install keras-flops"
      ],
      "id": "4dcd79cc"
    },
    {
      "cell_type": "code",
      "execution_count": null,
      "metadata": {
        "colab": {
          "base_uri": "https://localhost:8080/"
        },
        "id": "-JNb2w3JWawo",
        "outputId": "5dcd3d21-1fb3-47e6-a384-354a7b471bdc"
      },
      "outputs": [
        {
          "name": "stdout",
          "output_type": "stream",
          "text": [
            "Looking in indexes: https://pypi.org/simple, https://us-python.pkg.dev/colab-wheels/public/simple/\n",
            "Requirement already satisfied: keras in /usr/local/lib/python3.8/dist-packages (2.1.1)\n",
            "Requirement already satisfied: numpy>=1.9.1 in /usr/local/lib/python3.8/dist-packages (from keras) (1.21.6)\n",
            "Requirement already satisfied: scipy>=0.14 in /usr/local/lib/python3.8/dist-packages (from keras) (1.7.3)\n",
            "Requirement already satisfied: pyyaml in /usr/local/lib/python3.8/dist-packages (from keras) (6.0)\n",
            "Requirement already satisfied: six>=1.9.0 in /usr/local/lib/python3.8/dist-packages (from keras) (1.15.0)\n"
          ]
        }
      ],
      "source": [
        "  !pip install keras"
      ],
      "id": "-JNb2w3JWawo"
    },
    {
      "cell_type": "code",
      "execution_count": 4,
      "metadata": {
        "id": "853bc95b"
      },
      "outputs": [],
      "source": [
        "# Импорт необходимых библиотек\n",
        "import numpy as np\n",
        "import pandas as pd\n",
        "import tensorflow as tf\n",
        "from keras_flops import get_flops\n",
        "from keras.datasets import cifar100"
      ],
      "id": "853bc95b"
    },
    {
      "cell_type": "code",
      "execution_count": 5,
      "metadata": {
        "id": "4edc1263"
      },
      "outputs": [],
      "source": [
        "# Глобальные константы\n",
        "CLASSES       = 100\n",
        "BATCH_SIZE    = 128\n",
        "LEARNING_RATE = 1e-2"
      ],
      "id": "4edc1263"
    },
    {
      "cell_type": "code",
      "execution_count": 6,
      "metadata": {
        "id": "c29d85d4",
        "colab": {
          "base_uri": "https://localhost:8080/"
        },
        "outputId": "e2792d1f-64df-4f0c-fee8-81592bd7d526"
      },
      "outputs": [
        {
          "output_type": "stream",
          "name": "stdout",
          "text": [
            "Downloading data from https://www.cs.toronto.edu/~kriz/cifar-100-python.tar.gz\n",
            "169001437/169001437 [==============================] - 2s 0us/step\n"
          ]
        }
      ],
      "source": [
        "# Выполните загрузку модели\n",
        "(X_train, y_train), (X_val, y_val) = cifar100.load_data(label_mode='fine')"
      ],
      "id": "c29d85d4"
    },
    {
      "cell_type": "code",
      "execution_count": 7,
      "metadata": {
        "id": "faa27a1a"
      },
      "outputs": [],
      "source": [
        "# Преобразуйте метки классов в one_hot формат\n",
        "y_train = (y_train == np.arange(CLASSES)).astype(np.float32) \n",
        "y_val = (y_val == np.arange(CLASSES)).astype(np.float32) "
      ],
      "id": "faa27a1a"
    },
    {
      "cell_type": "code",
      "execution_count": 8,
      "metadata": {
        "id": "63e0fd77"
      },
      "outputs": [],
      "source": [
        "# убедитесь, что данная ячейка выполняется без ошибок\n",
        "assert X_train.shape == (50000, 32, 32, 3)\n",
        "assert X_val.shape == (10000, 32, 32, 3)\n",
        "assert y_train.shape == (50000, 100)\n",
        "assert y_val.shape == (10000, 100)"
      ],
      "id": "63e0fd77"
    },
    {
      "cell_type": "code",
      "source": [
        "input_shape = (32, 32, 3)"
      ],
      "metadata": {
        "id": "ofoi-1LK2nrp"
      },
      "id": "ofoi-1LK2nrp",
      "execution_count": 14,
      "outputs": []
    },
    {
      "cell_type": "code",
      "source": [
        "model = tf.keras.models.Sequential([\n",
        "    #tf.keras.Input(shape=[32,32,3]),\n",
        "\n",
        "    tf.keras.layers.SeparableConv2D(6, 3, padding='same', input_shape=input_shape),\n",
        "    tf.keras.layers.BatchNormalization(),\n",
        "    tf.keras.layers.Activation('relu'),\n",
        "    tf.keras.layers.MaxPooling2D(pool_size=(2, 2), strides=(2, 2), padding=\"same\"),\n",
        "    tf.keras.layers.Flatten(),\n",
        "\n",
        "    tf.keras.layers.Dense(CLASSES),\n",
        "    tf.keras.layers.Activation('softmax')\n",
        "])"
      ],
      "metadata": {
        "id": "rFZW5vx2w0u-"
      },
      "id": "rFZW5vx2w0u-",
      "execution_count": 27,
      "outputs": []
    },
    {
      "cell_type": "markdown",
      "source": [
        "при такой моедли получаем 0.3413\n",
        "\n",
        "model = tf.keras.models.Sequential([\n",
        "    tf.keras.Input(shape=[32,32,3]),\n",
        "\n",
        "    tf.keras.layers.Conv2D(16, kernel_size=(4,4),strides=(2,2),padding='same'),\n",
        "    tf.keras.layers.BatchNormalization(),\n",
        "    tf.keras.layers.Activation('relu'),\n",
        "    tf.keras.layers.MaxPooling2D(pool_size=(2, 2), strides=(2, 2), padding=\"same\"),\n",
        "\n",
        "    tf.keras.layers.Conv2D(16, kernel_size=(3,3),strides=(2,2),padding='same'), #16\n",
        "    tf.keras.layers.BatchNormalization(),\n",
        "    tf.keras.layers.Activation('relu'),\n",
        "    tf.keras.layers.MaxPooling2D(pool_size=(2, 2), strides=(2, 2), padding=\"same\"),\n",
        "\n",
        "    tf.keras.layers.Flatten(),\n",
        "    tf.keras.layers.Dense(512), #521\n",
        "    tf.keras.layers.BatchNormalization(),\n",
        "    tf.keras.layers.Activation('relu'),\n",
        "    tf.keras.layers.Dropout(0.5),\n",
        "\n",
        "    tf.keras.layers.Dense(CLASSES),\n",
        "    tf.keras.layers.Activation('softmax')\n",
        "])"
      ],
      "metadata": {
        "id": "awrwMaffAFL8"
      },
      "id": "awrwMaffAFL8"
    },
    {
      "cell_type": "code",
      "source": [
        "model = tf.keras.models.Sequential([\n",
        "    tf.keras.Input(shape=[32,32,3]),\n",
        "\n",
        "    tf.keras.layers.Conv2D(12, kernel_size=(3,3),strides=(2,2),padding='same'),\n",
        "    tf.keras.layers.BatchNormalization(),\n",
        "    tf.keras.layers.Activation('relu'),\n",
        "    tf.keras.layers.MaxPooling2D(pool_size=(2, 2), strides=(2, 2), padding=\"same\"),\n",
        "\n",
        "    tf.keras.layers.Conv2D(16, kernel_size=(3,3),strides=(2,2),padding='same'), #16\n",
        "    tf.keras.layers.BatchNormalization(),\n",
        "    tf.keras.layers.Activation('relu'),\n",
        "\n",
        "    tf.keras.layers.Flatten(),\n",
        "    tf.keras.layers.Dense(512), #521\n",
        "    #tf.keras.layers.Dense(128), #521\n",
        "    tf.keras.layers.BatchNormalization(),\n",
        "    tf.keras.layers.Activation('relu'),\n",
        "    tf.keras.layers.Dropout(0.5),\n",
        "\n",
        "    tf.keras.layers.Dense(CLASSES),\n",
        "    tf.keras.layers.Activation('softmax')\n",
        "])"
      ],
      "metadata": {
        "id": "Jlwlirfu62Km"
      },
      "id": "Jlwlirfu62Km",
      "execution_count": 138,
      "outputs": []
    },
    {
      "cell_type": "code",
      "execution_count": 126,
      "metadata": {
        "id": "6dde0e8a"
      },
      "outputs": [],
      "source": [
        "# Задайте архитектуру модели\n",
        "# model = tf.keras.models.Sequential([\n",
        "#     tf.keras.Input(shape=[32,32,3]),\n",
        "#     tf.keras.layers.Conv2D(16, 9),\n",
        "#     #tf.keras.layers.BatchNormalization(),\n",
        "#     #tf.keras.layers.Activation('relu'),\n",
        "#     tf.keras.layers.Activation('softmax')\n",
        "# ])"
      ],
      "id": "6dde0e8a"
    },
    {
      "cell_type": "code",
      "execution_count": 139,
      "metadata": {
        "colab": {
          "base_uri": "https://localhost:8080/"
        },
        "id": "cdc68648",
        "outputId": "0a66beae-43c6-422b-e510-7c0fee9f1faf"
      },
      "outputs": [
        {
          "output_type": "stream",
          "name": "stdout",
          "text": [
            "FLOPs: 0.6042e6\n"
          ]
        }
      ],
      "source": [
        "# вычисление количества операций\n",
        "flops = get_flops(model, batch_size=1)\n",
        "print(f\"FLOPs: {(flops / 1e6):.4f}e6\")"
      ],
      "id": "cdc68648"
    },
    {
      "cell_type": "code",
      "source": [
        "\n",
        "flops <= 0.707e6"
      ],
      "metadata": {
        "colab": {
          "base_uri": "https://localhost:8080/"
        },
        "id": "Tue3pMFEm5Cg",
        "outputId": "a513761b-4bd6-4eb4-ff37-9ed70120b5c6"
      },
      "id": "Tue3pMFEm5Cg",
      "execution_count": 140,
      "outputs": [
        {
          "output_type": "execute_result",
          "data": {
            "text/plain": [
              "True"
            ]
          },
          "metadata": {},
          "execution_count": 140
        }
      ]
    },
    {
      "cell_type": "code",
      "execution_count": 141,
      "metadata": {
        "colab": {
          "base_uri": "https://localhost:8080/"
        },
        "id": "68511a6f",
        "outputId": "b425fdc4-789e-49be-e503-76e9a43549a0"
      },
      "outputs": [
        {
          "output_type": "stream",
          "name": "stdout",
          "text": [
            "Model: \"sequential_30\"\n",
            "_________________________________________________________________\n",
            " Layer (type)                Output Shape              Param #   \n",
            "=================================================================\n",
            " conv2d_55 (Conv2D)          (None, 16, 16, 12)        336       \n",
            "                                                                 \n",
            " batch_normalization_82 (Bat  (None, 16, 16, 12)       48        \n",
            " chNormalization)                                                \n",
            "                                                                 \n",
            " activation_112 (Activation)  (None, 16, 16, 12)       0         \n",
            "                                                                 \n",
            " max_pooling2d_43 (MaxPoolin  (None, 8, 8, 12)         0         \n",
            " g2D)                                                            \n",
            "                                                                 \n",
            " conv2d_56 (Conv2D)          (None, 4, 4, 16)          1744      \n",
            "                                                                 \n",
            " batch_normalization_83 (Bat  (None, 4, 4, 16)         64        \n",
            " chNormalization)                                                \n",
            "                                                                 \n",
            " activation_113 (Activation)  (None, 4, 4, 16)         0         \n",
            "                                                                 \n",
            " flatten_27 (Flatten)        (None, 256)               0         \n",
            "                                                                 \n",
            " dense_63 (Dense)            (None, 512)               131584    \n",
            "                                                                 \n",
            " batch_normalization_84 (Bat  (None, 512)              2048      \n",
            " chNormalization)                                                \n",
            "                                                                 \n",
            " activation_114 (Activation)  (None, 512)              0         \n",
            "                                                                 \n",
            " dropout_22 (Dropout)        (None, 512)               0         \n",
            "                                                                 \n",
            " dense_64 (Dense)            (None, 100)               51300     \n",
            "                                                                 \n",
            " activation_115 (Activation)  (None, 100)              0         \n",
            "                                                                 \n",
            "=================================================================\n",
            "Total params: 187,124\n",
            "Trainable params: 186,044\n",
            "Non-trainable params: 1,080\n",
            "_________________________________________________________________\n"
          ]
        }
      ],
      "source": [
        "# вывод краткой информации о модели\n",
        "model.summary()"
      ],
      "id": "68511a6f"
    },
    {
      "cell_type": "code",
      "execution_count": 142,
      "metadata": {
        "id": "12f9dbef"
      },
      "outputs": [],
      "source": [
        "# параметры данной ячейки могут быть изменены для получения более высокой точности\n",
        "model.compile(\n",
        "    optimizer=tf.keras.optimizers.Adam(\n",
        "        learning_rate=tf.keras.optimizers.schedules.ExponentialDecay(initial_learning_rate=LEARNING_RATE, decay_steps=1000, decay_rate=0.5)\n",
        "    ),\n",
        "    loss=tf.keras.losses.CategoricalCrossentropy(),\n",
        "    metrics=['accuracy']\n",
        ")"
      ],
      "id": "12f9dbef"
    },
    {
      "cell_type": "code",
      "execution_count": 143,
      "metadata": {
        "colab": {
          "base_uri": "https://localhost:8080/"
        },
        "id": "49c36d15",
        "outputId": "c96b783d-191c-4e7c-957d-c0dfcc0420d5"
      },
      "outputs": [
        {
          "output_type": "stream",
          "name": "stdout",
          "text": [
            "Epoch 1/40\n",
            "391/391 [==============================] - 15s 37ms/step - loss: 3.6507 - accuracy: 0.1584 - val_loss: 3.3979 - val_accuracy: 0.1953\n",
            "Epoch 2/40\n",
            "391/391 [==============================] - 17s 44ms/step - loss: 3.0696 - accuracy: 0.2465 - val_loss: 3.1251 - val_accuracy: 0.2469\n",
            "Epoch 3/40\n",
            "391/391 [==============================] - 14s 36ms/step - loss: 2.8432 - accuracy: 0.2897 - val_loss: 2.9907 - val_accuracy: 0.2731\n",
            "Epoch 4/40\n",
            "391/391 [==============================] - 14s 36ms/step - loss: 2.6833 - accuracy: 0.3191 - val_loss: 2.8128 - val_accuracy: 0.3001\n",
            "Epoch 5/40\n",
            "391/391 [==============================] - 14s 37ms/step - loss: 2.5611 - accuracy: 0.3441 - val_loss: 2.6238 - val_accuracy: 0.3437\n",
            "Epoch 6/40\n",
            "391/391 [==============================] - 14s 37ms/step - loss: 2.4518 - accuracy: 0.3683 - val_loss: 2.5280 - val_accuracy: 0.3629\n",
            "Epoch 7/40\n",
            "391/391 [==============================] - 14s 36ms/step - loss: 2.3712 - accuracy: 0.3811 - val_loss: 2.5219 - val_accuracy: 0.3633\n",
            "Epoch 8/40\n",
            "391/391 [==============================] - 15s 38ms/step - loss: 2.3033 - accuracy: 0.3980 - val_loss: 2.4812 - val_accuracy: 0.3746\n",
            "Epoch 9/40\n",
            "391/391 [==============================] - 14s 37ms/step - loss: 2.2486 - accuracy: 0.4106 - val_loss: 2.4850 - val_accuracy: 0.3770\n",
            "Epoch 10/40\n",
            "391/391 [==============================] - 14s 36ms/step - loss: 2.2103 - accuracy: 0.4181 - val_loss: 2.4669 - val_accuracy: 0.3778\n",
            "Epoch 11/40\n",
            "391/391 [==============================] - 14s 36ms/step - loss: 2.1762 - accuracy: 0.4248 - val_loss: 2.4722 - val_accuracy: 0.3801\n",
            "Epoch 12/40\n",
            "391/391 [==============================] - 14s 36ms/step - loss: 2.1493 - accuracy: 0.4308 - val_loss: 2.4584 - val_accuracy: 0.3804\n",
            "Epoch 13/40\n",
            "391/391 [==============================] - 14s 36ms/step - loss: 2.1319 - accuracy: 0.4356 - val_loss: 2.4371 - val_accuracy: 0.3870\n",
            "Epoch 14/40\n",
            "391/391 [==============================] - 14s 36ms/step - loss: 2.1208 - accuracy: 0.4378 - val_loss: 2.4371 - val_accuracy: 0.3873\n",
            "Epoch 15/40\n",
            "391/391 [==============================] - 14s 37ms/step - loss: 2.1088 - accuracy: 0.4398 - val_loss: 2.4323 - val_accuracy: 0.3885\n",
            "Epoch 16/40\n",
            "391/391 [==============================] - 14s 37ms/step - loss: 2.0992 - accuracy: 0.4426 - val_loss: 2.4331 - val_accuracy: 0.3892\n",
            "Epoch 17/40\n",
            "391/391 [==============================] - 14s 37ms/step - loss: 2.0859 - accuracy: 0.4447 - val_loss: 2.4306 - val_accuracy: 0.3895\n",
            "Epoch 18/40\n",
            "391/391 [==============================] - 14s 37ms/step - loss: 2.0884 - accuracy: 0.4436 - val_loss: 2.4317 - val_accuracy: 0.3894\n",
            "Epoch 19/40\n",
            "391/391 [==============================] - 14s 37ms/step - loss: 2.0848 - accuracy: 0.4434 - val_loss: 2.4302 - val_accuracy: 0.3916\n",
            "Epoch 20/40\n",
            "391/391 [==============================] - 15s 37ms/step - loss: 2.0803 - accuracy: 0.4470 - val_loss: 2.4291 - val_accuracy: 0.3909\n",
            "Epoch 21/40\n",
            "391/391 [==============================] - 15s 38ms/step - loss: 2.0771 - accuracy: 0.4457 - val_loss: 2.4290 - val_accuracy: 0.3910\n",
            "Epoch 22/40\n",
            "391/391 [==============================] - 17s 43ms/step - loss: 2.0768 - accuracy: 0.4492 - val_loss: 2.4276 - val_accuracy: 0.3900\n",
            "Epoch 23/40\n",
            "391/391 [==============================] - 14s 36ms/step - loss: 2.0821 - accuracy: 0.4459 - val_loss: 2.4292 - val_accuracy: 0.3907\n",
            "Epoch 24/40\n",
            "391/391 [==============================] - 15s 38ms/step - loss: 2.0752 - accuracy: 0.4502 - val_loss: 2.4284 - val_accuracy: 0.3916\n",
            "Epoch 25/40\n",
            "391/391 [==============================] - 15s 38ms/step - loss: 2.0738 - accuracy: 0.4483 - val_loss: 2.4280 - val_accuracy: 0.3912\n",
            "Epoch 26/40\n",
            "391/391 [==============================] - 15s 38ms/step - loss: 2.0746 - accuracy: 0.4498 - val_loss: 2.4272 - val_accuracy: 0.3911\n",
            "Epoch 27/40\n",
            "391/391 [==============================] - 14s 37ms/step - loss: 2.0732 - accuracy: 0.4488 - val_loss: 2.4269 - val_accuracy: 0.3911\n",
            "Epoch 28/40\n",
            "391/391 [==============================] - 15s 38ms/step - loss: 2.0665 - accuracy: 0.4505 - val_loss: 2.4271 - val_accuracy: 0.3913\n",
            "Epoch 29/40\n",
            "391/391 [==============================] - 15s 38ms/step - loss: 2.0702 - accuracy: 0.4476 - val_loss: 2.4275 - val_accuracy: 0.3911\n",
            "Epoch 30/40\n",
            "391/391 [==============================] - 15s 38ms/step - loss: 2.0732 - accuracy: 0.4493 - val_loss: 2.4272 - val_accuracy: 0.3906\n",
            "Epoch 31/40\n",
            "391/391 [==============================] - 15s 38ms/step - loss: 2.0713 - accuracy: 0.4508 - val_loss: 2.4276 - val_accuracy: 0.3911\n",
            "Epoch 32/40\n",
            "391/391 [==============================] - 15s 38ms/step - loss: 2.0701 - accuracy: 0.4474 - val_loss: 2.4270 - val_accuracy: 0.3911\n",
            "Epoch 33/40\n",
            "391/391 [==============================] - 16s 40ms/step - loss: 2.0701 - accuracy: 0.4498 - val_loss: 2.4270 - val_accuracy: 0.3912\n",
            "Epoch 34/40\n",
            "391/391 [==============================] - 15s 39ms/step - loss: 2.0724 - accuracy: 0.4486 - val_loss: 2.4269 - val_accuracy: 0.3910\n",
            "Epoch 35/40\n",
            "391/391 [==============================] - 15s 39ms/step - loss: 2.0767 - accuracy: 0.4481 - val_loss: 2.4272 - val_accuracy: 0.3908\n",
            "Epoch 36/40\n",
            "391/391 [==============================] - 15s 39ms/step - loss: 2.0732 - accuracy: 0.4480 - val_loss: 2.4273 - val_accuracy: 0.3914\n",
            "Epoch 37/40\n",
            "391/391 [==============================] - 15s 38ms/step - loss: 2.0745 - accuracy: 0.4510 - val_loss: 2.4269 - val_accuracy: 0.3912\n",
            "Epoch 38/40\n",
            "391/391 [==============================] - 15s 39ms/step - loss: 2.0687 - accuracy: 0.4496 - val_loss: 2.4269 - val_accuracy: 0.3912\n",
            "Epoch 39/40\n",
            "391/391 [==============================] - 15s 38ms/step - loss: 2.0710 - accuracy: 0.4508 - val_loss: 2.4269 - val_accuracy: 0.3910\n",
            "Epoch 40/40\n",
            "391/391 [==============================] - 18s 46ms/step - loss: 2.0753 - accuracy: 0.4485 - val_loss: 2.4271 - val_accuracy: 0.3916\n"
          ]
        },
        {
          "output_type": "execute_result",
          "data": {
            "text/plain": [
              "<keras.callbacks.History at 0x7f21dac4e7c0>"
            ]
          },
          "metadata": {},
          "execution_count": 143
        }
      ],
      "source": [
        "# обучения модели\n",
        "model.fit(\n",
        "    x=X_train,\n",
        "    y=y_train,\n",
        "    validation_data=(X_val, y_val),\n",
        "    batch_size=BATCH_SIZE,\n",
        "    callbacks=[\n",
        "        tf.keras.callbacks.ModelCheckpoint(filepath=\"{epoch:02d}-{val_accuracy:.2f}.hdf5\", save_best_only=True),\n",
        "        \n",
        "    ],\n",
        "    use_multiprocessing=True,\n",
        "    workers=8,\n",
        "    epochs=40\n",
        "    #epochs=256\n",
        ")"
      ],
      "id": "49c36d15"
    },
    {
      "cell_type": "code",
      "execution_count": null,
      "metadata": {
        "id": "24b134d3"
      },
      "outputs": [],
      "source": [
        "\n"
      ],
      "id": "24b134d3"
    }
  ],
  "metadata": {
    "colab": {
      "provenance": []
    },
    "kernelspec": {
      "display_name": "Python 3",
      "language": "python",
      "name": "python3"
    },
    "language_info": {
      "codemirror_mode": {
        "name": "ipython",
        "version": 3
      },
      "file_extension": ".py",
      "mimetype": "text/x-python",
      "name": "python",
      "nbconvert_exporter": "python",
      "pygments_lexer": "ipython3",
      "version": "3.7.12"
    },
    "papermill": {
      "default_parameters": {},
      "duration": 166.12377,
      "end_time": "2023-01-24T18:28:00.235146",
      "environment_variables": {},
      "exception": true,
      "input_path": "__notebook__.ipynb",
      "output_path": "__notebook__.ipynb",
      "parameters": {},
      "start_time": "2023-01-24T18:25:14.111376",
      "version": "2.3.4"
    }
  },
  "nbformat": 4,
  "nbformat_minor": 5
}